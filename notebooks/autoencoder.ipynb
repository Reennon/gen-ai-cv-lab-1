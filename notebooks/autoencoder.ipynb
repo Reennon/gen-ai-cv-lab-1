{
 "cells": [
  {
   "cell_type": "markdown",
   "source": [
    "# Autoencoder CIFAR-10 Training and Experimentation\n",
    "\n",
    "This notebook demonstrates training Autoencoder model on the CIFAR-10 dataset using a modular training pipeline implemented in PyTorch Lightning.\n"
   ],
   "metadata": {
    "collapsed": false
   }
  },
  {
   "cell_type": "code",
   "execution_count": null,
   "metadata": {
    "collapsed": true
   },
   "outputs": [],
   "source": [
    "!git clone !git clone https://github.com/Reennon/gen-ai-cv-lab-1.git\n",
    "%cd gen-ai-cv-lab-1\n",
    "!pip install -r requirements.txt"
   ]
  },
  {
   "cell_type": "code",
   "execution_count": null,
   "outputs": [],
   "source": [
    "import os\n",
    "import dotenv\n",
    "import wandb\n",
    "import torch\n",
    "\n",
    "from omegaconf import OmegaConf\n",
    "from torch.utils.data import DataLoader\n",
    "from torchvision import datasets, transforms\n",
    "\n",
    "from src.visualization.base_visualizer import BaseVisualizer\n",
    "from src.training.trainer import train_model\n",
    "from src.models.autoencoder import Autoencoder\n"
   ],
   "metadata": {
    "collapsed": false
   }
  },
  {
   "cell_type": "code",
   "execution_count": null,
   "outputs": [],
   "source": [
    "dotenv.load_dotenv()"
   ],
   "metadata": {
    "collapsed": false
   }
  },
  {
   "cell_type": "code",
   "execution_count": null,
   "outputs": [],
   "source": [
    "parameters = OmegaConf.load(\"./params/autoencoder.yaml\")\n",
    "wandb.login(key=os.environ[\"WANDB_KEY\"])"
   ],
   "metadata": {
    "collapsed": false
   }
  },
  {
   "cell_type": "code",
   "execution_count": null,
   "outputs": [],
   "source": [
    "wandb_project_name = \"cifar-10-vae\"\n",
    "device = \"cuda:0\""
   ],
   "metadata": {
    "collapsed": false
   }
  },
  {
   "cell_type": "code",
   "execution_count": null,
   "outputs": [],
   "source": [
    "# Define data transforms\n",
    "transform = transforms.Compose([\n",
    "    transforms.ToTensor(),\n",
    "    # Additional transforms like normalization can be added here\n",
    "])\n",
    "\n",
    "# Load datasets\n",
    "train_dataset = datasets.CIFAR10(root='./data', train=True, download=True, transform=transform)\n",
    "val_dataset = datasets.CIFAR10(root='./data', train=False, download=True, transform=transform)\n",
    "\n",
    "# Create data loaders\n",
    "train_loader = DataLoader(train_dataset, batch_size=64, shuffle=True, num_workers=2)\n",
    "val_loader = DataLoader(val_dataset, batch_size=64, shuffle=False, num_workers=2)\n"
   ],
   "metadata": {
    "collapsed": false
   }
  },
  {
   "cell_type": "code",
   "execution_count": null,
   "outputs": [],
   "source": [
    "hparams = parameters.hyperparameters"
   ],
   "metadata": {
    "collapsed": false
   }
  },
  {
   "cell_type": "code",
   "execution_count": null,
   "outputs": [],
   "source": [
    "# Edit hparams dict here as experiemnt, wandb will log the difference\n",
    "hparams[\"lr\"] = 3e-3\n",
    "\n",
    "dict(hparams)"
   ],
   "metadata": {
    "collapsed": false
   }
  },
  {
   "cell_type": "code",
   "execution_count": null,
   "outputs": [],
   "source": [
    "# Train the Autoencoder\n",
    "train_model(Autoencoder, hparams, train_loader, val_loader)\n"
   ],
   "metadata": {
    "collapsed": false
   }
  },
  {
   "cell_type": "code",
   "execution_count": null,
   "outputs": [],
   "source": [
    "# Visualize metrics from wandb\n",
    "from IPython.display import display\n",
    "wandb_url = wandb.run.url\n",
    "display(f\"Wandb Dashboard: {wandb_url}\")\n"
   ],
   "metadata": {
    "collapsed": false
   }
  },
  {
   "cell_type": "code",
   "execution_count": null,
   "outputs": [],
   "source": [
    "# Load the model\n",
    "model = Autoencoder(hparams)\n",
    "model.load_from_checkpoint('path/to/best_checkpoint.ckpt')\n",
    "model.eval()\n",
    "\n",
    "# Visualize original and reconstructed images\n",
    "visualizer = BaseVisualizer(model, val_loader)\n",
    "visualizer.visualize_reconstructions()"
   ],
   "metadata": {
    "collapsed": false
   }
  }
 ],
 "metadata": {
  "kernelspec": {
   "display_name": "Python 3",
   "language": "python",
   "name": "python3"
  },
  "language_info": {
   "codemirror_mode": {
    "name": "ipython",
    "version": 2
   },
   "file_extension": ".py",
   "mimetype": "text/x-python",
   "name": "python",
   "nbconvert_exporter": "python",
   "pygments_lexer": "ipython2",
   "version": "2.7.6"
  }
 },
 "nbformat": 4,
 "nbformat_minor": 0
}
