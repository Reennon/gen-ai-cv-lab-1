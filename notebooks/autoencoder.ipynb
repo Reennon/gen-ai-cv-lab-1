{
  "cells": [
    {
      "cell_type": "markdown",
      "metadata": {
        "id": "view-in-github",
        "colab_type": "text"
      },
      "source": [
        "<a href=\"https://colab.research.google.com/github/Reennon/gen-ai-cv-lab-1/blob/main/notebooks/autoencoder.ipynb\" target=\"_parent\"><img src=\"https://colab.research.google.com/assets/colab-badge.svg\" alt=\"Open In Colab\"/></a>"
      ]
    },
    {
      "cell_type": "markdown",
      "source": [
        "# Autoencoder CIFAR-10 Training and Experimentation\n",
        "\n",
        "This notebook demonstrates training Autoencoder model on the CIFAR-10 dataset using a modular training pipeline implemented in PyTorch Lightning.\n"
      ],
      "metadata": {
        "collapsed": false,
        "id": "U6eBbA0ThwVO"
      }
    },
    {
      "cell_type": "code",
      "execution_count": null,
      "metadata": {
        "collapsed": true,
        "is_executing": true,
        "id": "7O5T3UwxhwVO"
      },
      "outputs": [],
      "source": [
        "!git clone https://github.com/Reennon/gen-ai-cv-lab-1.git\n",
        "%cd gen-ai-cv-lab-1"
      ]
    },
    {
      "cell_type": "code",
      "source": [
        "!pip install -r requirements.txt"
      ],
      "metadata": {
        "collapsed": true,
        "id": "7VeblDX3iwz5"
      },
      "execution_count": null,
      "outputs": []
    },
    {
      "cell_type": "code",
      "source": [
        "!git pull"
      ],
      "metadata": {
        "colab": {
          "base_uri": "https://localhost:8080/"
        },
        "id": "e5U3fidzka0w",
        "outputId": "b840ab0d-0adf-4532-81e3-1f357f7f7108"
      },
      "execution_count": 4,
      "outputs": [
        {
          "output_type": "stream",
          "name": "stdout",
          "text": [
            "Already up to date.\n"
          ]
        }
      ]
    },
    {
      "cell_type": "code",
      "execution_count": 5,
      "outputs": [],
      "source": [
        "import os\n",
        "import dotenv\n",
        "import wandb\n",
        "import torch\n",
        "\n",
        "from omegaconf import OmegaConf\n",
        "from torch.utils.data import DataLoader\n",
        "from torchvision import datasets, transforms\n",
        "from google.colab import userdata\n",
        "\n",
        "from src.visualization.base_visualizer import BaseVisualizer\n",
        "from src.training.trainer import train_model\n",
        "from src.models.autoencoder import Autoencoder\n"
      ],
      "metadata": {
        "ExecuteTime": {
          "end_time": "2024-12-02T22:30:45.746972Z",
          "start_time": "2024-12-02T22:30:43.055734Z"
        },
        "id": "mSCpubGShwVP"
      }
    },
    {
      "cell_type": "code",
      "source": [
        "!echo WANDB_KEY=userdata.get(\"wandb_key\") >> .env"
      ],
      "metadata": {
        "id": "UTNEmoQfjJfK"
      },
      "execution_count": 6,
      "outputs": []
    },
    {
      "cell_type": "code",
      "execution_count": 7,
      "outputs": [
        {
          "output_type": "execute_result",
          "data": {
            "text/plain": [
              "True"
            ]
          },
          "metadata": {},
          "execution_count": 7
        }
      ],
      "source": [
        "dotenv.load_dotenv()"
      ],
      "metadata": {
        "ExecuteTime": {
          "end_time": "2024-12-02T22:30:45.930705Z",
          "start_time": "2024-12-02T22:30:45.920364Z"
        },
        "colab": {
          "base_uri": "https://localhost:8080/"
        },
        "id": "q-3n8uDnhwVP",
        "outputId": "1dd55b05-0ed1-412d-e613-2f1643042842"
      }
    },
    {
      "cell_type": "code",
      "execution_count": 8,
      "outputs": [
        {
          "output_type": "stream",
          "name": "stderr",
          "text": [
            "\u001b[34m\u001b[1mwandb\u001b[0m: Using wandb-core as the SDK backend.  Please refer to https://wandb.me/wandb-core for more information.\n",
            "\u001b[34m\u001b[1mwandb\u001b[0m: W&B API key is configured. Use \u001b[1m`wandb login --relogin`\u001b[0m to force relogin\n",
            "\u001b[34m\u001b[1mwandb\u001b[0m: \u001b[33mWARNING\u001b[0m If you're specifying your api key in code, ensure this code is not shared publicly.\n",
            "\u001b[34m\u001b[1mwandb\u001b[0m: \u001b[33mWARNING\u001b[0m Consider setting the WANDB_API_KEY environment variable, or running `wandb login` from the command line.\n",
            "\u001b[34m\u001b[1mwandb\u001b[0m: Appending key for api.wandb.ai to your netrc file: /root/.netrc\n"
          ]
        },
        {
          "output_type": "execute_result",
          "data": {
            "text/plain": [
              "True"
            ]
          },
          "metadata": {},
          "execution_count": 8
        }
      ],
      "source": [
        "parameters = OmegaConf.load(\"./params/autoencoder.yml\")\n",
        "wandb.login(key=os.environ[\"WANDB_KEY\"])"
      ],
      "metadata": {
        "ExecuteTime": {
          "end_time": "2024-12-02T22:30:48.378495Z",
          "start_time": "2024-12-02T22:30:47.209677Z"
        },
        "colab": {
          "base_uri": "https://localhost:8080/"
        },
        "id": "3l8GsAtShwVP",
        "outputId": "b55310e9-e395-41bd-fc8e-3976c2f4231b"
      }
    },
    {
      "cell_type": "code",
      "execution_count": 9,
      "outputs": [],
      "source": [
        "wandb_project_name = \"cifar-10-autoencoder\"\n",
        "device = \"gpu\""
      ],
      "metadata": {
        "ExecuteTime": {
          "end_time": "2024-12-02T22:30:49.454451Z",
          "start_time": "2024-12-02T22:30:49.451076Z"
        },
        "id": "Wq5KG_BHhwVP"
      }
    },
    {
      "cell_type": "code",
      "execution_count": 10,
      "outputs": [
        {
          "output_type": "stream",
          "name": "stdout",
          "text": [
            "Downloading https://www.cs.toronto.edu/~kriz/cifar-10-python.tar.gz to ./data/cifar-10-python.tar.gz\n"
          ]
        },
        {
          "output_type": "stream",
          "name": "stderr",
          "text": [
            "100%|██████████| 170M/170M [00:03<00:00, 49.1MB/s]\n"
          ]
        },
        {
          "output_type": "stream",
          "name": "stdout",
          "text": [
            "Extracting ./data/cifar-10-python.tar.gz to ./data\n",
            "Files already downloaded and verified\n"
          ]
        }
      ],
      "source": [
        "# Define data transforms\n",
        "transform = transforms.Compose([\n",
        "    transforms.ToTensor(),\n",
        "    transforms.Normalize(0.5, 0.5)\n",
        "])\n",
        "\n",
        "# Load datasets\n",
        "train_dataset = datasets.CIFAR10(root='./data', train=True, download=True, transform=transform)\n",
        "val_dataset = datasets.CIFAR10(root='./data', train=False, download=True, transform=transform)\n",
        "\n",
        "# Create data loaders\n",
        "train_loader = DataLoader(train_dataset, batch_size=64, shuffle=True, num_workers=2)\n",
        "val_loader = DataLoader(val_dataset, batch_size=64, shuffle=False, num_workers=2)\n"
      ],
      "metadata": {
        "ExecuteTime": {
          "end_time": "2024-12-02T22:30:51.788117Z",
          "start_time": "2024-12-02T22:30:50.419611Z"
        },
        "colab": {
          "base_uri": "https://localhost:8080/"
        },
        "id": "MQHnE11khwVQ",
        "outputId": "ff1a8d95-f26d-4904-90ca-6ecaed558a87"
      }
    },
    {
      "cell_type": "code",
      "execution_count": 11,
      "outputs": [
        {
          "output_type": "stream",
          "name": "stdout",
          "text": [
            "tensor(-1.) tensor(1.)\n"
          ]
        }
      ],
      "source": [
        "dataiter = iter(train_loader)\n",
        "images, labels = next(dataiter)\n",
        "print(torch.min(images), torch.max(images))"
      ],
      "metadata": {
        "ExecuteTime": {
          "end_time": "2024-12-02T22:30:56.363497Z",
          "start_time": "2024-12-02T22:30:52.036058Z"
        },
        "colab": {
          "base_uri": "https://localhost:8080/"
        },
        "id": "Yab1XykbhwVQ",
        "outputId": "1999591c-3940-4839-d8f0-0aec07aebbd4"
      }
    },
    {
      "cell_type": "code",
      "execution_count": 13,
      "outputs": [
        {
          "output_type": "execute_result",
          "data": {
            "text/plain": [
              "torch.Size([64, 3, 32, 32])"
            ]
          },
          "metadata": {},
          "execution_count": 13
        }
      ],
      "source": [
        "images.shape"
      ],
      "metadata": {
        "ExecuteTime": {
          "end_time": "2024-12-02T22:30:56.368096Z",
          "start_time": "2024-12-02T22:30:56.364248Z"
        },
        "colab": {
          "base_uri": "https://localhost:8080/"
        },
        "id": "y97DbKj8hwVQ",
        "outputId": "250ba2ab-cd5b-4052-eade-471a1cbd81ae"
      }
    },
    {
      "cell_type": "code",
      "execution_count": 12,
      "outputs": [],
      "source": [
        "hparams = parameters.hyperparameters"
      ],
      "metadata": {
        "ExecuteTime": {
          "end_time": "2024-12-02T22:30:56.378249Z",
          "start_time": "2024-12-02T22:30:56.368823Z"
        },
        "id": "oFGCDL-shwVQ"
      }
    },
    {
      "cell_type": "code",
      "execution_count": 14,
      "outputs": [
        {
          "output_type": "execute_result",
          "data": {
            "text/plain": [
              "{'lr': 0.003, 'epochs': 10, 'latent_dim': 64}"
            ]
          },
          "metadata": {},
          "execution_count": 14
        }
      ],
      "source": [
        "# Edit hparams dict here as experiemnt, wandb will log the difference\n",
        "hparams[\"lr\"] = 3e-3\n",
        "\n",
        "dict(hparams)"
      ],
      "metadata": {
        "ExecuteTime": {
          "end_time": "2024-12-02T22:30:57.498395Z",
          "start_time": "2024-12-02T22:30:57.489692Z"
        },
        "colab": {
          "base_uri": "https://localhost:8080/"
        },
        "id": "waufte5PhwVQ",
        "outputId": "3b1623f0-cc0e-4b0f-bfab-dc098c93d109"
      }
    },
    {
      "cell_type": "code",
      "execution_count": 15,
      "outputs": [
        {
          "output_type": "error",
          "ename": "TypeError",
          "evalue": "BaseModel.__init__() missing 1 required positional argument: 'hparams'",
          "traceback": [
            "\u001b[0;31m---------------------------------------------------------------------------\u001b[0m",
            "\u001b[0;31mTypeError\u001b[0m                                 Traceback (most recent call last)",
            "\u001b[0;32m<ipython-input-15-4429355c8d3c>\u001b[0m in \u001b[0;36m<cell line: 2>\u001b[0;34m()\u001b[0m\n\u001b[1;32m      1\u001b[0m \u001b[0;31m# Train the Autoencoder\u001b[0m\u001b[0;34m\u001b[0m\u001b[0;34m\u001b[0m\u001b[0m\n\u001b[0;32m----> 2\u001b[0;31m \u001b[0mtrain_model\u001b[0m\u001b[0;34m(\u001b[0m\u001b[0mAutoencoder\u001b[0m\u001b[0;34m,\u001b[0m \u001b[0mparameters\u001b[0m\u001b[0;34m,\u001b[0m \u001b[0mtrain_loader\u001b[0m\u001b[0;34m,\u001b[0m \u001b[0mval_loader\u001b[0m\u001b[0;34m,\u001b[0m \u001b[0mwandb_project_name\u001b[0m\u001b[0;34m)\u001b[0m\u001b[0;34m\u001b[0m\u001b[0;34m\u001b[0m\u001b[0m\n\u001b[0m",
            "\u001b[0;32m/content/gen-ai-cv-lab-1/src/training/trainer.py\u001b[0m in \u001b[0;36mtrain_model\u001b[0;34m(model_class, params, train_loader, val_loader, wandb_project_name)\u001b[0m\n\u001b[1;32m     25\u001b[0m     \u001b[0;31m# Initialize the model\u001b[0m\u001b[0;34m\u001b[0m\u001b[0;34m\u001b[0m\u001b[0m\n\u001b[1;32m     26\u001b[0m     \u001b[0mhparams\u001b[0m \u001b[0;34m=\u001b[0m \u001b[0mparams\u001b[0m\u001b[0;34m.\u001b[0m\u001b[0mhyperparameters\u001b[0m\u001b[0;34m\u001b[0m\u001b[0;34m\u001b[0m\u001b[0m\n\u001b[0;32m---> 27\u001b[0;31m     \u001b[0mmodel\u001b[0m \u001b[0;34m=\u001b[0m \u001b[0mmodel_class\u001b[0m\u001b[0;34m(\u001b[0m\u001b[0mhparams\u001b[0m\u001b[0;34m)\u001b[0m\u001b[0;34m\u001b[0m\u001b[0;34m\u001b[0m\u001b[0m\n\u001b[0m\u001b[1;32m     28\u001b[0m \u001b[0;34m\u001b[0m\u001b[0m\n\u001b[1;32m     29\u001b[0m     \u001b[0;31m# Initialize Wandb logger\u001b[0m\u001b[0;34m\u001b[0m\u001b[0;34m\u001b[0m\u001b[0m\n",
            "\u001b[0;32m/content/gen-ai-cv-lab-1/src/models/autoencoder.py\u001b[0m in \u001b[0;36m__init__\u001b[0;34m(self, hparams)\u001b[0m\n\u001b[1;32m     10\u001b[0m \u001b[0;32mclass\u001b[0m \u001b[0mAutoencoder\u001b[0m\u001b[0;34m(\u001b[0m\u001b[0mBaseModel\u001b[0m\u001b[0;34m)\u001b[0m\u001b[0;34m:\u001b[0m\u001b[0;34m\u001b[0m\u001b[0;34m\u001b[0m\u001b[0m\n\u001b[1;32m     11\u001b[0m     \u001b[0;32mdef\u001b[0m \u001b[0m__init__\u001b[0m\u001b[0;34m(\u001b[0m\u001b[0mself\u001b[0m\u001b[0;34m,\u001b[0m \u001b[0mhparams\u001b[0m\u001b[0;34m)\u001b[0m\u001b[0;34m:\u001b[0m\u001b[0;34m\u001b[0m\u001b[0;34m\u001b[0m\u001b[0m\n\u001b[0;32m---> 12\u001b[0;31m         \u001b[0msuper\u001b[0m\u001b[0;34m(\u001b[0m\u001b[0mAutoencoder\u001b[0m\u001b[0;34m,\u001b[0m \u001b[0mself\u001b[0m\u001b[0;34m)\u001b[0m\u001b[0;34m.\u001b[0m\u001b[0m__init__\u001b[0m\u001b[0;34m(\u001b[0m\u001b[0;34m)\u001b[0m\u001b[0;34m\u001b[0m\u001b[0;34m\u001b[0m\u001b[0m\n\u001b[0m\u001b[1;32m     13\u001b[0m         \u001b[0mself\u001b[0m\u001b[0;34m.\u001b[0m\u001b[0msave_hyperparameters\u001b[0m\u001b[0;34m(\u001b[0m\u001b[0mhparams\u001b[0m\u001b[0;34m)\u001b[0m\u001b[0;34m\u001b[0m\u001b[0;34m\u001b[0m\u001b[0m\n\u001b[1;32m     14\u001b[0m         \u001b[0;31m# Define the encoder\u001b[0m\u001b[0;34m\u001b[0m\u001b[0;34m\u001b[0m\u001b[0m\n",
            "\u001b[0;31mTypeError\u001b[0m: BaseModel.__init__() missing 1 required positional argument: 'hparams'"
          ]
        }
      ],
      "source": [
        "# Train the Autoencoder\n",
        "train_model(Autoencoder, parameters, train_loader, val_loader, wandb_project_name)\n"
      ],
      "metadata": {
        "ExecuteTime": {
          "end_time": "2024-12-02T22:30:58.861706Z",
          "start_time": "2024-12-02T22:30:58.645815Z"
        },
        "colab": {
          "base_uri": "https://localhost:8080/",
          "height": 304
        },
        "id": "xjvDymuYhwVR",
        "outputId": "db5ebb4e-f8c2-4c0b-b1d3-f97694a3874e"
      }
    },
    {
      "cell_type": "code",
      "source": [
        "Autoencoder.__dict__"
      ],
      "metadata": {
        "id": "yqOW4JfelGNT"
      },
      "execution_count": null,
      "outputs": []
    },
    {
      "cell_type": "code",
      "execution_count": null,
      "outputs": [],
      "source": [
        "# Visualize metrics from wandb\n",
        "from IPython.display import display\n",
        "wandb_url = wandb.run.url\n",
        "display(f\"Wandb Dashboard: {wandb_url}\")\n"
      ],
      "metadata": {
        "id": "60ZXrTAShwVR"
      }
    },
    {
      "cell_type": "code",
      "execution_count": null,
      "outputs": [],
      "source": [
        "# Load the model\n",
        "model = Autoencoder(hparams)\n",
        "model.load_from_checkpoint('path/to/best_checkpoint.ckpt')\n",
        "model.eval()\n",
        "\n",
        "# Visualize original and reconstructed images\n",
        "visualizer = BaseVisualizer(model, val_loader)\n",
        "visualizer.visualize_reconstructions()"
      ],
      "metadata": {
        "id": "WBHOKx-uhwVR"
      }
    }
  ],
  "metadata": {
    "kernelspec": {
      "display_name": "Python 3",
      "name": "python3"
    },
    "language_info": {
      "codemirror_mode": {
        "name": "ipython",
        "version": 2
      },
      "file_extension": ".py",
      "mimetype": "text/x-python",
      "name": "python",
      "nbconvert_exporter": "python",
      "pygments_lexer": "ipython2",
      "version": "2.7.6"
    },
    "colab": {
      "provenance": [],
      "gpuType": "T4",
      "include_colab_link": true
    },
    "accelerator": "GPU"
  },
  "nbformat": 4,
  "nbformat_minor": 0
}